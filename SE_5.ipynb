{
  "nbformat": 4,
  "nbformat_minor": 0,
  "metadata": {
    "colab": {
      "provenance": [],
      "authorship_tag": "ABX9TyM6ASNktmzGIVLdiHJEjEOr",
      "include_colab_link": true
    },
    "kernelspec": {
      "name": "python3",
      "display_name": "Python 3"
    },
    "language_info": {
      "name": "python"
    }
  },
  "cells": [
    {
      "cell_type": "markdown",
      "metadata": {
        "id": "view-in-github",
        "colab_type": "text"
      },
      "source": [
        "<a href=\"https://colab.research.google.com/github/tejith02/SE-Task-5/blob/main/SE_5.ipynb\" target=\"_parent\"><img src=\"https://colab.research.google.com/assets/colab-badge.svg\" alt=\"Open In Colab\"/></a>"
      ]
    },
    {
      "cell_type": "code",
      "execution_count": 2,
      "metadata": {
        "colab": {
          "base_uri": "https://localhost:8080/"
        },
        "id": "mEPg8UXb1eps",
        "outputId": "47aac176-70c9-469f-c770-ddef34967eb5"
      },
      "outputs": [
        {
          "output_type": "stream",
          "name": "stdout",
          "text": [
            "At time 11 seconds, the temperature is 182.10°C.\n"
          ]
        }
      ],
      "source": [
        "a = 1.6\n",
        "b = -3.5\n",
        "c = 27.0\n",
        "time = 11\n",
        "temperature = a * (time ** 2) + b * time + c\n",
        "print(f\"At time {time} seconds, the temperature is {temperature:.2f}°C.\")\n"
      ]
    },
    {
      "cell_type": "code",
      "source": [
        "# Accept coefficients from the user\n",
        "a = float(input(\"Enter the coefficient 'a' (for time^2): \"))\n",
        "b = float(input(\"Enter the coefficient 'b' (for time): \"))\n",
        "c = float(input(\"Enter the constant 'c': \"))\n",
        "\n",
        "time = float(input(\"Enter the time value (seconds): \"))\n",
        "\n",
        "temperature = a * (time ** 2) + b * time + c\n",
        "\n",
        "print(f\"At time {time} seconds, the temperature is {temperature:.2f}°C.\")\n"
      ],
      "metadata": {
        "colab": {
          "base_uri": "https://localhost:8080/"
        },
        "id": "YjAFzHPB4BfD",
        "outputId": "c825e9a8-d264-430a-f88a-9d5151145521"
      },
      "execution_count": 3,
      "outputs": [
        {
          "output_type": "stream",
          "name": "stdout",
          "text": [
            "Enter the coefficient 'a' (for time^2): 4\n",
            "Enter the coefficient 'b' (for time): 14\n",
            "Enter the constant 'c': 6\n",
            "Enter the time value (seconds): 30\n",
            "At time 30.0 seconds, the temperature is 4026.00°C.\n"
          ]
        }
      ]
    },
    {
      "cell_type": "code",
      "source": [
        "# Read variables from a file\n",
        "def read_variables_from_file(filename):\n",
        "    variables = {}\n",
        "    with open(filename, 'r') as file:\n",
        "        for line in file:\n",
        "            # Split the line into a key and value\n",
        "            key, value = line.strip().split('=')\n",
        "            variables[key] = float(value)  # Convert value to float\n",
        "    return variables\n",
        "\n",
        "filename = 'variable.txt'\n",
        "\n",
        "variables = read_variables_from_file(filename)\n",
        "\n",
        "a = variables['a']\n",
        "b = variables['b']\n",
        "c = variables['c']\n",
        "time = variables['time']\n",
        "\n",
        "temperature = a * (time ** 2) + b * time + c\n",
        "\n",
        "print(f\"At time {time} seconds, the temperature is {temperature:.2f}°C.\")\n"
      ],
      "metadata": {
        "colab": {
          "base_uri": "https://localhost:8080/"
        },
        "id": "e06d3WIJ4iQk",
        "outputId": "7282129f-30f2-4101-cd71-53e6999abab8"
      },
      "execution_count": 4,
      "outputs": [
        {
          "output_type": "stream",
          "name": "stdout",
          "text": [
            "At time 11.0 seconds, the temperature is 328.70°C.\n"
          ]
        }
      ]
    },
    {
      "cell_type": "code",
      "source": [
        "# Function to read a single set of coefficients from a file\n",
        "def read_coefficients_from_file(filename):\n",
        "    coefficients = {}\n",
        "    with open(filename, 'r') as file:\n",
        "        for line in file:\n",
        "            key, value = line.strip().split('=')\n",
        "            coefficients[key] = float(value)\n",
        "    return coefficients\n",
        "\n",
        "filename = 'coefficients.txt'\n",
        "\n",
        "coefficients = read_coefficients_from_file(filename)\n",
        "\n",
        "a = coefficients['a']\n",
        "b = coefficients['b']\n",
        "c = coefficients['c']\n",
        "time = coefficients['time']\n",
        "\n",
        "temperature = a * (time ** 2) + b * time + c\n",
        "\n",
        "print(f\"At time {time} seconds, the temperature is {temperature:.2f}°C.\")\n"
      ],
      "metadata": {
        "colab": {
          "base_uri": "https://localhost:8080/"
        },
        "id": "XFF1fd487D-i",
        "outputId": "d3d52834-7326-40b4-8114-bec15408fa3e"
      },
      "execution_count": 5,
      "outputs": [
        {
          "output_type": "stream",
          "name": "stdout",
          "text": [
            "At time 12.0 seconds, the temperature is 328.40°C.\n"
          ]
        }
      ]
    },
    {
      "cell_type": "code",
      "source": [
        "# Function to process multiple sets of inputs from a file\n",
        "def process_multiple_sets(filename):\n",
        "    with open(filename, 'r') as file:\n",
        "        print(\"Processing multiple sets of inputs...\\n\")\n",
        "        for line_num, line in enumerate(file, start=1):\n",
        "            try:\n",
        "                coefficients = {}\n",
        "                for item in line.strip().split(','):\n",
        "                    key, value = item.strip().split('=')\n",
        "                    coefficients[key.strip()] = float(value.strip())\n",
        "\n",
        "                a = coefficients['a']\n",
        "                b = coefficients['b']\n",
        "                c = coefficients['c']\n",
        "                time = coefficients['time']\n",
        "\n",
        "                temperature = a * (time ** 2) + b * time + c\n",
        "\n",
        "                print(f\"Set {line_num}: At time {time} seconds, the temperature is {temperature:.2f}°C.\")\n",
        "            except Exception as e:\n",
        "                print(f\"Error processing line {line_num}: {line.strip()} - {e}\")\n",
        "\n",
        "filename = 'multiple_sets.txt'\n",
        "\n",
        "process_multiple_sets(filename)\n"
      ],
      "metadata": {
        "colab": {
          "base_uri": "https://localhost:8080/"
        },
        "id": "Owi1Gxxq8P9Y",
        "outputId": "90f131db-19e2-460e-f602-1fc1adb7365f"
      },
      "execution_count": 6,
      "outputs": [
        {
          "output_type": "stream",
          "name": "stdout",
          "text": [
            "Processing multiple sets of inputs...\n",
            "\n",
            "Set 1: At time 11.0 seconds, the temperature is 281.60°C.\n",
            "Set 2: At time 6.0 seconds, the temperature is 187.00°C.\n",
            "Set 3: At time 9.0 seconds, the temperature is 285.20°C.\n"
          ]
        }
      ]
    }
  ]
}